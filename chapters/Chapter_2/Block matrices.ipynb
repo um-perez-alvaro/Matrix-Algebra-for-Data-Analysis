{
 "cells": [
  {
   "cell_type": "markdown",
   "id": "d3d6cae9",
   "metadata": {},
   "source": [
    "# Introduction to Block Matrices"
   ]
  },
  {
   "cell_type": "markdown",
   "id": "7f21349c",
   "metadata": {},
   "source": [
    "Block matrices are matrices composed of smaller sub-matrices, known as blocks. They are useful for efficiently performing operations on large datasets by breaking them down into smaller, more manageable pieces."
   ]
  },
  {
   "cell_type": "markdown",
   "id": "4f3a5dbb",
   "metadata": {},
   "source": [
    "For some of the operations, we will need SciPy, a Python library used for scientific and technical computing. SciPy builds on NumPy and provides additional functionality, particularly for linear algebra, optimization, integration, and more. It will be especially useful for advanced matrix operations that are not available in NumPy. "
   ]
  },
  {
   "cell_type": "markdown",
   "id": "46255045",
   "metadata": {},
   "source": [
    "**Table of contents**\n",
    "\n",
    "* [Basic Block Matrix Construction](#block)\n",
    "* [Stacking and Tiling Matrices](#stacking)\n",
    "* [Block Diagonal Matrices](#diagonal)"
   ]
  },
  {
   "cell_type": "code",
   "execution_count": 3,
   "id": "7b51fc43",
   "metadata": {},
   "outputs": [],
   "source": [
    "import numpy as np"
   ]
  },
  {
   "cell_type": "markdown",
   "id": "8ca6d239",
   "metadata": {},
   "source": [
    "## 1. BASIC BLOCK MATRIX CONSTRUCTION IN NUMPY <a class=\"anchor\" id=\"block\"></a>"
   ]
  },
  {
   "cell_type": "markdown",
   "id": "7ad5aa9b",
   "metadata": {},
   "source": [
    "Let's start by constructing block matrices using NumPy."
   ]
  },
  {
   "cell_type": "code",
   "execution_count": 7,
   "id": "948b9f27",
   "metadata": {},
   "outputs": [
    {
     "data": {
      "text/plain": [
       "array([[ 1,  2,  3,  1,  0],\n",
       "       [ 4,  5,  6,  0,  2],\n",
       "       [ 3,  2,  1,  7,  8],\n",
       "       [ 6,  5,  4,  9, 10]])"
      ]
     },
     "execution_count": 7,
     "metadata": {},
     "output_type": "execute_result"
    }
   ],
   "source": [
    "# Create smaller matrices (blocks)\n",
    "A11 = np.array([[1, 2, 3], [4, 5, 6]])\n",
    "A12 = np.array([[1,0], [0, 2]])\n",
    "A21 = np.array([[3, 2, 1], [6, 5, 4]])\n",
    "A22 = np.array([[7, 8], [9, 10]])\n",
    "\n",
    "# Combine blocks into a block matrix\n",
    "A = np.block([[A11, A12], [A21, A22]])\n",
    "A"
   ]
  },
  {
   "cell_type": "markdown",
   "id": "670f7673",
   "metadata": {},
   "source": [
    "## 2. STACKING AND TILING MATRICES <a class=\"anchor\" id=\"stacking\"></a>"
   ]
  },
  {
   "cell_type": "markdown",
   "id": "e80f67cf",
   "metadata": {},
   "source": [
    "Using `np.vstack`, `np.hstack`, and `np.tile` for more advanced block matrix operations."
   ]
  },
  {
   "cell_type": "code",
   "execution_count": 18,
   "id": "8b6e7ca4",
   "metadata": {},
   "outputs": [],
   "source": [
    "A = np.array([[1, 2], [3, 4]])\n",
    "B = np.array([[5, 6], [7, 8]])\n",
    "C = np.array([[9,10], [11, 12]])"
   ]
  },
  {
   "cell_type": "markdown",
   "id": "865eb7b2",
   "metadata": {},
   "source": [
    "We use `np.vstack` to stack matrices vertically."
   ]
  },
  {
   "cell_type": "code",
   "execution_count": 19,
   "id": "8372cdc5",
   "metadata": {},
   "outputs": [
    {
     "data": {
      "text/plain": [
       "array([[ 1,  2],\n",
       "       [ 3,  4],\n",
       "       [ 5,  6],\n",
       "       [ 7,  8],\n",
       "       [ 9, 10],\n",
       "       [11, 12]])"
      ]
     },
     "execution_count": 19,
     "metadata": {},
     "output_type": "execute_result"
    }
   ],
   "source": [
    "# vertical stacking\n",
    "np.vstack((A, B, C))"
   ]
  },
  {
   "cell_type": "markdown",
   "id": "91ee97c6",
   "metadata": {},
   "source": [
    "We use `np.hstack` to stack matrices horizontally."
   ]
  },
  {
   "cell_type": "code",
   "execution_count": 20,
   "id": "b9f8bc78",
   "metadata": {},
   "outputs": [
    {
     "data": {
      "text/plain": [
       "array([[ 1,  2,  5,  6,  9, 10],\n",
       "       [ 3,  4,  7,  8, 11, 12]])"
      ]
     },
     "execution_count": 20,
     "metadata": {},
     "output_type": "execute_result"
    }
   ],
   "source": [
    "# horizontal stacking\n",
    "np.hstack((A, B, C))"
   ]
  },
  {
   "cell_type": "markdown",
   "id": "08d423d3",
   "metadata": {},
   "source": [
    "We use `np.tile` to repeat a matrix multiple times along specified dimensions."
   ]
  },
  {
   "cell_type": "code",
   "execution_count": 21,
   "id": "b44f7105",
   "metadata": {},
   "outputs": [
    {
     "data": {
      "text/plain": [
       "array([[1, 2, 1, 2],\n",
       "       [3, 4, 3, 4],\n",
       "       [1, 2, 1, 2],\n",
       "       [3, 4, 3, 4],\n",
       "       [1, 2, 1, 2],\n",
       "       [3, 4, 3, 4]])"
      ]
     },
     "execution_count": 21,
     "metadata": {},
     "output_type": "execute_result"
    }
   ],
   "source": [
    "# repeat matrix A three times along the vertical dimension and twice along the horizontal dimension.\n",
    "np.tile(A, (3, 2))"
   ]
  },
  {
   "cell_type": "markdown",
   "id": "33b7ad9a",
   "metadata": {},
   "source": [
    "## 3. BLOCK DIAGONAL MATRICES <a class=\"anchor\" id=\"diagonal\"></a>"
   ]
  },
  {
   "cell_type": "markdown",
   "id": "64c974b7",
   "metadata": {},
   "source": [
    "Block diagonal matrices have smaller matrices on their diagonal, with zeros elsewhere."
   ]
  },
  {
   "cell_type": "code",
   "execution_count": 23,
   "id": "45821f7c",
   "metadata": {
    "scrolled": true
   },
   "outputs": [
    {
     "data": {
      "text/plain": [
       "array([[ 1,  2,  3,  0,  0,  0,  0],\n",
       "       [ 4,  5,  6,  0,  0,  0,  0],\n",
       "       [ 0,  0,  0,  7,  8,  0,  0],\n",
       "       [ 0,  0,  0,  9, 10,  0,  0],\n",
       "       [ 0,  0,  0,  0,  0, 11, 12],\n",
       "       [ 0,  0,  0,  0,  0, 13, 14],\n",
       "       [ 0,  0,  0,  0,  0, 15, 16]])"
      ]
     },
     "execution_count": 23,
     "metadata": {},
     "output_type": "execute_result"
    }
   ],
   "source": [
    "from scipy.linalg import block_diag\n",
    "\n",
    "# Create smaller matrices (blocks)\n",
    "D1 = np.array([[1, 2, 3], [4, 5, 6]])\n",
    "D2 = np.array([[7, 8], [9, 10]])\n",
    "D3 = np.array([[11,12],[13,14],[15,16]])\n",
    "\n",
    "# Combine blocks into a block diagonal matrix\n",
    "D = block_diag(D1, D2, D3)\n",
    "D"
   ]
  },
  {
   "cell_type": "code",
   "execution_count": null,
   "id": "61e722ce",
   "metadata": {},
   "outputs": [],
   "source": []
  }
 ],
 "metadata": {
  "kernelspec": {
   "display_name": "Python 3 (ipykernel)",
   "language": "python",
   "name": "python3"
  },
  "language_info": {
   "codemirror_mode": {
    "name": "ipython",
    "version": 3
   },
   "file_extension": ".py",
   "mimetype": "text/x-python",
   "name": "python",
   "nbconvert_exporter": "python",
   "pygments_lexer": "ipython3",
   "version": "3.11.4"
  }
 },
 "nbformat": 4,
 "nbformat_minor": 5
}
