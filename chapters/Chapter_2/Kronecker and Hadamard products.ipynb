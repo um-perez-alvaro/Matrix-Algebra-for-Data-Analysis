{
 "cells": [
  {
   "cell_type": "markdown",
   "id": "72dc67d4",
   "metadata": {},
   "source": [
    "# KRONECKER AND HADAMARD PRODUCTS"
   ]
  },
  {
   "cell_type": "markdown",
   "id": "11d64390",
   "metadata": {},
   "source": [
    "This notebook covers the Kronecker and Hadamard products, which are useful for various matrix operations in scientific computing."
   ]
  },
  {
   "cell_type": "markdown",
   "id": "c7330902",
   "metadata": {},
   "source": [
    "**Table of contents**\n",
    "\n",
    "* [The Kronecker Product](#kronecker)\n",
    "* [The Hadamard Product](#hadamard)"
   ]
  },
  {
   "cell_type": "code",
   "execution_count": 1,
   "id": "b9abec54",
   "metadata": {},
   "outputs": [],
   "source": [
    "import numpy as np"
   ]
  },
  {
   "cell_type": "markdown",
   "id": "829729ec",
   "metadata": {},
   "source": [
    "## 1. THE KRONECKER PRODUCT <a class=\"anchor\" id=\"kronecker\"></a>"
   ]
  },
  {
   "cell_type": "markdown",
   "id": "8ca435ed",
   "metadata": {},
   "source": [
    "The Kronecker product is a block matrix resulting from the multiplication of each element of a matrix by another matrix.\n",
    "We use `np.kron` to compute the Kronecker product of two matrices"
   ]
  },
  {
   "cell_type": "code",
   "execution_count": 3,
   "id": "e77da0dd",
   "metadata": {},
   "outputs": [],
   "source": [
    "# Create smaller matrices (blocks)\n",
    "A = np.array([[1, 2], [3, 4]])\n",
    "B = np.array([[5, 6], [7, 8]])"
   ]
  },
  {
   "cell_type": "code",
   "execution_count": 4,
   "id": "426f0b68",
   "metadata": {},
   "outputs": [
    {
     "data": {
      "text/plain": [
       "array([[ 5,  6, 10, 12],\n",
       "       [ 7,  8, 14, 16],\n",
       "       [15, 18, 20, 24],\n",
       "       [21, 24, 28, 32]])"
      ]
     },
     "execution_count": 4,
     "metadata": {},
     "output_type": "execute_result"
    }
   ],
   "source": [
    "# # Kronecker product of A and B\n",
    "np.kron(A,B)"
   ]
  },
  {
   "cell_type": "code",
   "execution_count": 5,
   "id": "00e91e5f",
   "metadata": {},
   "outputs": [
    {
     "data": {
      "text/plain": [
       "array([[ 5, 10,  6, 12],\n",
       "       [15, 20, 18, 24],\n",
       "       [ 7, 14,  8, 16],\n",
       "       [21, 28, 24, 32]])"
      ]
     },
     "execution_count": 5,
     "metadata": {},
     "output_type": "execute_result"
    }
   ],
   "source": [
    "# Kronecker product of B and A\n",
    "np.kron(B,A)"
   ]
  },
  {
   "cell_type": "markdown",
   "id": "26ab71f1",
   "metadata": {},
   "source": [
    "## 2. THE HADAMARD PRODUCT <a class=\"anchor\" id=\"hadamard\"></a>"
   ]
  },
  {
   "cell_type": "markdown",
   "id": "835a1211",
   "metadata": {},
   "source": [
    "The Hadamard product is the element-wise product of two matrices of the same dimensions. You can use `*` for this operation."
   ]
  },
  {
   "cell_type": "code",
   "execution_count": 6,
   "id": "a7928174",
   "metadata": {},
   "outputs": [
    {
     "data": {
      "text/plain": [
       "array([[ 5, 12],\n",
       "       [21, 32]])"
      ]
     },
     "execution_count": 6,
     "metadata": {},
     "output_type": "execute_result"
    }
   ],
   "source": [
    "# Hadamard product of A and B\n",
    "A*B"
   ]
  },
  {
   "cell_type": "code",
   "execution_count": null,
   "id": "7aa364ef",
   "metadata": {},
   "outputs": [],
   "source": []
  }
 ],
 "metadata": {
  "kernelspec": {
   "display_name": "Python 3 (ipykernel)",
   "language": "python",
   "name": "python3"
  },
  "language_info": {
   "codemirror_mode": {
    "name": "ipython",
    "version": 3
   },
   "file_extension": ".py",
   "mimetype": "text/x-python",
   "name": "python",
   "nbconvert_exporter": "python",
   "pygments_lexer": "ipython3",
   "version": "3.11.4"
  }
 },
 "nbformat": 4,
 "nbformat_minor": 5
}
