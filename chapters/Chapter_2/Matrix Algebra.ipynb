{
 "cells": [
  {
   "cell_type": "markdown",
   "id": "a6b87b24",
   "metadata": {},
   "source": [
    "# MATRIX ALGEBRA"
   ]
  },
  {
   "cell_type": "markdown",
   "id": "aba1e0d8",
   "metadata": {},
   "source": [
    "In this notebook, we will cover the basics of matrix algebra: addition, scalar multiplication, transposition, and matrix multiplication."
   ]
  },
  {
   "cell_type": "markdown",
   "id": "1e317c04",
   "metadata": {},
   "source": [
    "**Table of contents**\n",
    "\n",
    "* [Matrix Addition](#addition)\n",
    "* [Scalar Multiplication](#scalar)\n",
    "* [Matrix Transposition](#transposition)\n",
    "* [Complex Matrices and the Complex Conjugate Transpose](#complex)\n",
    "* [Dot Product of Vectors](#dot)\n",
    "* [Matrix Multiplication](#product)\n",
    "* [The Inverse Matrix](#inverse)\n",
    "* [Trace and Determinant](#more)"
   ]
  },
  {
   "cell_type": "code",
   "execution_count": 1,
   "id": "94e7afaa",
   "metadata": {},
   "outputs": [],
   "source": [
    "import numpy as np"
   ]
  },
  {
   "cell_type": "markdown",
   "id": "731e8afe",
   "metadata": {},
   "source": [
    "## 1. MATRIX ADDITION <a class=\"anchor\" id=\"addition\"></a>"
   ]
  },
  {
   "cell_type": "markdown",
   "id": "c8cca1fd",
   "metadata": {},
   "source": [
    "Matrix addition is performed element-wise, and the matrices must have the same dimensions."
   ]
  },
  {
   "cell_type": "code",
   "execution_count": 2,
   "id": "ccb13c9c",
   "metadata": {},
   "outputs": [
    {
     "data": {
      "text/plain": [
       "array([[ 8, 10, 12],\n",
       "       [14, 16, 18]])"
      ]
     },
     "execution_count": 2,
     "metadata": {},
     "output_type": "execute_result"
    }
   ],
   "source": [
    "# Define two matrices of the same size\n",
    "A = np.array([[1, 2, 3], [4, 5, 6]])\n",
    "B = np.array([[7, 8, 9], [10, 11, 12]])\n",
    "\n",
    "# Add the matrices\n",
    "C = A + B\n",
    "C"
   ]
  },
  {
   "cell_type": "code",
   "execution_count": 3,
   "id": "73bad240",
   "metadata": {},
   "outputs": [
    {
     "ename": "ValueError",
     "evalue": "operands could not be broadcast together with shapes (2,3) (2,2) ",
     "output_type": "error",
     "traceback": [
      "\u001b[1;31m---------------------------------------------------------------------------\u001b[0m",
      "\u001b[1;31mValueError\u001b[0m                                Traceback (most recent call last)",
      "Cell \u001b[1;32mIn[3], line 3\u001b[0m\n\u001b[0;32m      1\u001b[0m \u001b[38;5;66;03m# Attempt to add matrices of different sizes\u001b[39;00m\n\u001b[0;32m      2\u001b[0m B \u001b[38;5;241m=\u001b[39m np\u001b[38;5;241m.\u001b[39marray([[\u001b[38;5;241m1\u001b[39m,\u001b[38;5;241m1\u001b[39m],[\u001b[38;5;241m2\u001b[39m,\u001b[38;5;241m2\u001b[39m]])\n\u001b[1;32m----> 3\u001b[0m A\u001b[38;5;241m+\u001b[39mB\n",
      "\u001b[1;31mValueError\u001b[0m: operands could not be broadcast together with shapes (2,3) (2,2) "
     ]
    }
   ],
   "source": [
    "# Attempt to add matrices of different sizes\n",
    "B = np.array([[1,1],[2,2]])\n",
    "A+B"
   ]
  },
  {
   "cell_type": "markdown",
   "id": "7c593d15",
   "metadata": {},
   "source": [
    "## 2. SCALAR MULTIPLICATION <a class=\"anchor\" id=\"scalar\"></a>"
   ]
  },
  {
   "cell_type": "markdown",
   "id": "76dc1777",
   "metadata": {},
   "source": [
    "Scalar multiplication involves multiplying each element of the matrix by a scalar value."
   ]
  },
  {
   "cell_type": "code",
   "execution_count": 4,
   "id": "2b3aa94e",
   "metadata": {},
   "outputs": [
    {
     "data": {
      "text/plain": [
       "array([[ 3,  6,  9],\n",
       "       [12, 15, 18]])"
      ]
     },
     "execution_count": 4,
     "metadata": {},
     "output_type": "execute_result"
    }
   ],
   "source": [
    "# Define a scalar\n",
    "scalar = 3\n",
    "\n",
    "# Multiply matrix A by the scalar\n",
    "B = scalar * A\n",
    "B"
   ]
  },
  {
   "cell_type": "markdown",
   "id": "ea28d31a",
   "metadata": {},
   "source": [
    "## 3. MATRIX TRANSPOSITION <a class=\"anchor\" id=\"transposition\"></a>"
   ]
  },
  {
   "cell_type": "markdown",
   "id": "db74ef5b",
   "metadata": {},
   "source": [
    "Transposing a matrix involves swapping its rows and columns. We can use either `np.transpose` or the `.T` attribute."
   ]
  },
  {
   "cell_type": "code",
   "execution_count": 5,
   "id": "aa825f54",
   "metadata": {},
   "outputs": [
    {
     "data": {
      "text/plain": [
       "array([[1, 2, 3],\n",
       "       [4, 5, 6]])"
      ]
     },
     "execution_count": 5,
     "metadata": {},
     "output_type": "execute_result"
    }
   ],
   "source": [
    "A"
   ]
  },
  {
   "cell_type": "code",
   "execution_count": 6,
   "id": "7756526e",
   "metadata": {},
   "outputs": [
    {
     "data": {
      "text/plain": [
       "array([[1, 4],\n",
       "       [2, 5],\n",
       "       [3, 6]])"
      ]
     },
     "execution_count": 6,
     "metadata": {},
     "output_type": "execute_result"
    }
   ],
   "source": [
    "np.transpose(A)"
   ]
  },
  {
   "cell_type": "code",
   "execution_count": 7,
   "id": "1bdf2396",
   "metadata": {},
   "outputs": [
    {
     "data": {
      "text/plain": [
       "array([[1, 4],\n",
       "       [2, 5],\n",
       "       [3, 6]])"
      ]
     },
     "execution_count": 7,
     "metadata": {},
     "output_type": "execute_result"
    }
   ],
   "source": [
    "A.T"
   ]
  },
  {
   "cell_type": "markdown",
   "id": "306dd657",
   "metadata": {},
   "source": [
    "## 4. COMPLEX MATRICES AND THE COMPLEX CONJUGATE TRANSPOSE <a class=\"anchor\" id=\"complex\"></a>"
   ]
  },
  {
   "cell_type": "markdown",
   "id": "2b08a4b3",
   "metadata": {},
   "source": [
    "The complex conjugate transpose is the analogue of the transpose for complex matrices. It involves taking the transpose of a matrix and then taking the complex conjugate of each element."
   ]
  },
  {
   "cell_type": "markdown",
   "id": "18eebbd4",
   "metadata": {},
   "source": [
    "Let's start by defining a complex matrix."
   ]
  },
  {
   "cell_type": "code",
   "execution_count": 20,
   "id": "ac7872e4",
   "metadata": {},
   "outputs": [
    {
     "data": {
      "text/plain": [
       "array([[1.+2.j, 2.+3.j],\n",
       "       [3.+4.j, 4.+5.j]])"
      ]
     },
     "execution_count": 20,
     "metadata": {},
     "output_type": "execute_result"
    }
   ],
   "source": [
    "# Define a complex matrix\n",
    "A = np.array([[1+2j, 2+3j], [3+4j, 4+5j]])\n",
    "A"
   ]
  },
  {
   "cell_type": "markdown",
   "id": "c5a5efc2",
   "metadata": {},
   "source": [
    "We can compute the complex conjugate transpose using `np.conj` followed by `np.transpose`, or simply using the `.T` attribute combined with `np.conj`."
   ]
  },
  {
   "cell_type": "code",
   "execution_count": 25,
   "id": "de40a4bd",
   "metadata": {},
   "outputs": [
    {
     "data": {
      "text/plain": [
       "array([[1.-2.j, 3.-4.j],\n",
       "       [2.-3.j, 4.-5.j]])"
      ]
     },
     "execution_count": 25,
     "metadata": {},
     "output_type": "execute_result"
    }
   ],
   "source": [
    "np.conj(np.transpose(A))"
   ]
  },
  {
   "cell_type": "code",
   "execution_count": 26,
   "id": "28641fe1",
   "metadata": {},
   "outputs": [
    {
     "data": {
      "text/plain": [
       "array([[1.-2.j, 3.-4.j],\n",
       "       [2.-3.j, 4.-5.j]])"
      ]
     },
     "execution_count": 26,
     "metadata": {},
     "output_type": "execute_result"
    }
   ],
   "source": [
    "np.conj(A.T)"
   ]
  },
  {
   "cell_type": "markdown",
   "id": "404a4e74",
   "metadata": {},
   "source": [
    "Alternatively, we can compute the complex conjugate transpose using `.conj().T` attribute."
   ]
  },
  {
   "cell_type": "code",
   "execution_count": 28,
   "id": "71de2ed7",
   "metadata": {},
   "outputs": [
    {
     "data": {
      "text/plain": [
       "array([[1.-2.j, 3.-4.j],\n",
       "       [2.-3.j, 4.-5.j]])"
      ]
     },
     "execution_count": 28,
     "metadata": {},
     "output_type": "execute_result"
    }
   ],
   "source": [
    "A.conj().T"
   ]
  },
  {
   "cell_type": "markdown",
   "id": "77ccdc42",
   "metadata": {},
   "source": [
    "## 5. DOT PRODUCT OF VECTORS <a class=\"anchor\" id=\"dot\"></a>"
   ]
  },
  {
   "cell_type": "markdown",
   "id": "5dd67b15",
   "metadata": {},
   "source": [
    "The dot product of two vectors is the sum of the products of their corresponding elements. "
   ]
  },
  {
   "cell_type": "code",
   "execution_count": 19,
   "id": "ef7d70b5",
   "metadata": {},
   "outputs": [
    {
     "data": {
      "text/plain": [
       "32"
      ]
     },
     "execution_count": 19,
     "metadata": {},
     "output_type": "execute_result"
    }
   ],
   "source": [
    "# Define two vectors\n",
    "v = np.array([1, 2, 3])\n",
    "w = np.array([4, 5, 6])\n",
    "\n",
    "# dot product\n",
    "v.dot(w)"
   ]
  },
  {
   "cell_type": "markdown",
   "id": "94f9f153",
   "metadata": {},
   "source": [
    "## 6. MATRIX MULTIPLICATION <a class=\"anchor\" id=\"product\"></a>"
   ]
  },
  {
   "cell_type": "markdown",
   "id": "d5249634",
   "metadata": {},
   "source": [
    "Matrix multiplication involves taking the dot product of rows and columns. The number of columns in the first matrix must equal the number of rows in the second matrix. We can use either `np.dot` or the `@` operator for matrix multiplication. "
   ]
  },
  {
   "cell_type": "code",
   "execution_count": 9,
   "id": "41679f9f",
   "metadata": {},
   "outputs": [
    {
     "data": {
      "text/plain": [
       "(array([[1, 2, 3],\n",
       "        [4, 5, 6]]),\n",
       " array([[ 7,  8],\n",
       "        [ 9, 10],\n",
       "        [11, 12]]))"
      ]
     },
     "execution_count": 9,
     "metadata": {},
     "output_type": "execute_result"
    }
   ],
   "source": [
    "A = np.array([[1, 2, 3], [4, 5, 6]])\n",
    "B = np.array([[7, 8], [9,10], [11, 12]])\n",
    "A,B"
   ]
  },
  {
   "cell_type": "code",
   "execution_count": 11,
   "id": "7a63cc9f",
   "metadata": {},
   "outputs": [
    {
     "data": {
      "text/plain": [
       "array([[ 58,  64],\n",
       "       [139, 154]])"
      ]
     },
     "execution_count": 11,
     "metadata": {},
     "output_type": "execute_result"
    }
   ],
   "source": [
    "# A times B\n",
    "A.dot(B)"
   ]
  },
  {
   "cell_type": "code",
   "execution_count": 12,
   "id": "ace20c8e",
   "metadata": {},
   "outputs": [
    {
     "data": {
      "text/plain": [
       "array([[ 39,  54,  69],\n",
       "       [ 49,  68,  87],\n",
       "       [ 59,  82, 105]])"
      ]
     },
     "execution_count": 12,
     "metadata": {},
     "output_type": "execute_result"
    }
   ],
   "source": [
    "# B times A\n",
    "B@A"
   ]
  },
  {
   "cell_type": "code",
   "execution_count": 13,
   "id": "5ef026b1",
   "metadata": {},
   "outputs": [
    {
     "ename": "ValueError",
     "evalue": "shapes (2,3) and (2,3) not aligned: 3 (dim 1) != 2 (dim 0)",
     "output_type": "error",
     "traceback": [
      "\u001b[1;31m---------------------------------------------------------------------------\u001b[0m",
      "\u001b[1;31mValueError\u001b[0m                                Traceback (most recent call last)",
      "Cell \u001b[1;32mIn[13], line 3\u001b[0m\n\u001b[0;32m      1\u001b[0m \u001b[38;5;66;03m# # Define matrices of incompatible sizes for multiplication\u001b[39;00m\n\u001b[0;32m      2\u001b[0m B \u001b[38;5;241m=\u001b[39m np\u001b[38;5;241m.\u001b[39marray([[\u001b[38;5;241m7\u001b[39m,\u001b[38;5;241m8\u001b[39m,\u001b[38;5;241m9\u001b[39m],[\u001b[38;5;241m10\u001b[39m,\u001b[38;5;241m11\u001b[39m,\u001b[38;5;241m12\u001b[39m]])\n\u001b[1;32m----> 3\u001b[0m A\u001b[38;5;241m.\u001b[39mdot(B)\n",
      "\u001b[1;31mValueError\u001b[0m: shapes (2,3) and (2,3) not aligned: 3 (dim 1) != 2 (dim 0)"
     ]
    }
   ],
   "source": [
    "# # Define matrices of incompatible sizes for multiplication\n",
    "B = np.array([[7,8,9],[10,11,12]])\n",
    "A.dot(B)"
   ]
  },
  {
   "cell_type": "markdown",
   "id": "1a8ab00c",
   "metadata": {},
   "source": [
    "## 7. THE INVERSE MATRIX <a class=\"anchor\" id=\"inverse\"></a>"
   ]
  },
  {
   "cell_type": "markdown",
   "id": "ed629a83",
   "metadata": {},
   "source": [
    "The inverse of a matrix is another matrix such that when multiplied with the original matrix, it results in the identity matrix."
   ]
  },
  {
   "cell_type": "code",
   "execution_count": 33,
   "id": "b76cba35",
   "metadata": {},
   "outputs": [
    {
     "data": {
      "text/plain": [
       "array([[1, 2],\n",
       "       [3, 4]])"
      ]
     },
     "execution_count": 33,
     "metadata": {},
     "output_type": "execute_result"
    }
   ],
   "source": [
    "A = np.array([[1,2],[3,4]])\n",
    "A"
   ]
  },
  {
   "cell_type": "code",
   "execution_count": 32,
   "id": "eb1d299f",
   "metadata": {},
   "outputs": [
    {
     "data": {
      "text/plain": [
       "array([[-2. ,  1. ],\n",
       "       [ 1.5, -0.5]])"
      ]
     },
     "execution_count": 32,
     "metadata": {},
     "output_type": "execute_result"
    }
   ],
   "source": [
    "Ainv = np.linalg.inv(A)\n",
    "Ainv"
   ]
  },
  {
   "cell_type": "code",
   "execution_count": 34,
   "id": "6ebb988a",
   "metadata": {},
   "outputs": [
    {
     "data": {
      "text/plain": [
       "(array([[1.00000000e+00, 1.11022302e-16],\n",
       "        [0.00000000e+00, 1.00000000e+00]]),\n",
       " array([[1.0000000e+00, 4.4408921e-16],\n",
       "        [0.0000000e+00, 1.0000000e+00]]))"
      ]
     },
     "execution_count": 34,
     "metadata": {},
     "output_type": "execute_result"
    }
   ],
   "source": [
    "# check that A times Ainv and Ainv times A is the identity\n",
    "A.dot(Ainv), Ainv.dot(A)"
   ]
  },
  {
   "cell_type": "markdown",
   "id": "2846d476",
   "metadata": {},
   "source": [
    "## 8. TRACE AND DETERMINANT <a class=\"anchor\" id=\"more\"></a>"
   ]
  },
  {
   "cell_type": "markdown",
   "id": "79e0b7e4",
   "metadata": {},
   "source": [
    "In this section, we will discuss the trace and determinant of matrices. We will also verify two important properties: \n",
    "$\\det(AB)=\\det(A)\\det(B)$ and $\\mathrm{trace}(AB)=\\mathrm{trace}(BA)$."
   ]
  },
  {
   "cell_type": "markdown",
   "id": "b0a71115",
   "metadata": {},
   "source": [
    "### 8.1. THE TRACE OF A MATRIX"
   ]
  },
  {
   "cell_type": "markdown",
   "id": "3bf193dd",
   "metadata": {},
   "source": [
    "The trace of a matrix is the sum of the elements on its main diagonal. It is defined for any matrix, whether rectangular or square."
   ]
  },
  {
   "cell_type": "code",
   "execution_count": 35,
   "id": "458c1eec",
   "metadata": {},
   "outputs": [
    {
     "data": {
      "text/plain": [
       "array([[1, 2],\n",
       "       [3, 4],\n",
       "       [5, 6]])"
      ]
     },
     "execution_count": 35,
     "metadata": {},
     "output_type": "execute_result"
    }
   ],
   "source": [
    "A = np.array([[1,2],[3,4],[5,6]])\n",
    "A"
   ]
  },
  {
   "cell_type": "code",
   "execution_count": 36,
   "id": "bed74ca4",
   "metadata": {},
   "outputs": [
    {
     "data": {
      "text/plain": [
       "5"
      ]
     },
     "execution_count": 36,
     "metadata": {},
     "output_type": "execute_result"
    }
   ],
   "source": [
    "# trace(A)=1+4\n",
    "np.trace(A)"
   ]
  },
  {
   "cell_type": "code",
   "execution_count": 37,
   "id": "1d835a72",
   "metadata": {},
   "outputs": [
    {
     "data": {
      "text/plain": [
       "array([[1, 2, 3],\n",
       "       [4, 5, 6],\n",
       "       [7, 8, 9]])"
      ]
     },
     "execution_count": 37,
     "metadata": {},
     "output_type": "execute_result"
    }
   ],
   "source": [
    "A = np.array([[1,2,3],[4,5,6],[7,8,9]])\n",
    "A"
   ]
  },
  {
   "cell_type": "code",
   "execution_count": 38,
   "id": "20e8e997",
   "metadata": {},
   "outputs": [
    {
     "data": {
      "text/plain": [
       "15"
      ]
     },
     "execution_count": 38,
     "metadata": {},
     "output_type": "execute_result"
    }
   ],
   "source": [
    "# trace(A)=1+5+9\n",
    "np.trace(A)"
   ]
  },
  {
   "cell_type": "code",
   "execution_count": 40,
   "id": "7752de69",
   "metadata": {},
   "outputs": [
    {
     "data": {
      "text/plain": [
       "True"
      ]
     },
     "execution_count": 40,
     "metadata": {},
     "output_type": "execute_result"
    }
   ],
   "source": [
    "# check trace(AB) = trace(BA) for any mxn and nxm matrices A and B\n",
    "m=3\n",
    "n=5\n",
    "A = np.random.randn(m,n)\n",
    "B = np.random.randn(n,m)\n",
    "np.allclose(np.trace(A.dot(B)),np.trace(B.dot(A)))"
   ]
  },
  {
   "cell_type": "markdown",
   "id": "24b2ab0b",
   "metadata": {},
   "source": [
    "### 8.2. THE DETERMINANT"
   ]
  },
  {
   "cell_type": "markdown",
   "id": "52d07f08",
   "metadata": {},
   "source": [
    "The determinant is a scalar value that can be computed from the elements of a square matrix. It is defined only for square matrices."
   ]
  },
  {
   "cell_type": "code",
   "execution_count": 43,
   "id": "f37c2727",
   "metadata": {},
   "outputs": [
    {
     "data": {
      "text/plain": [
       "array([[ 1, -2,  3],\n",
       "       [ 2,  0,  3],\n",
       "       [ 1,  5,  4]])"
      ]
     },
     "execution_count": 43,
     "metadata": {},
     "output_type": "execute_result"
    }
   ],
   "source": [
    "A = np.array([[1,-2,3],[2,0,3],[1,5,4]])\n",
    "A"
   ]
  },
  {
   "cell_type": "code",
   "execution_count": 44,
   "id": "e1a87378",
   "metadata": {},
   "outputs": [
    {
     "data": {
      "text/plain": [
       "24.999999999999996"
      ]
     },
     "execution_count": 44,
     "metadata": {},
     "output_type": "execute_result"
    }
   ],
   "source": [
    "np.linalg.det(A)"
   ]
  },
  {
   "cell_type": "code",
   "execution_count": 45,
   "id": "9d18efde",
   "metadata": {},
   "outputs": [
    {
     "ename": "LinAlgError",
     "evalue": "Last 2 dimensions of the array must be square",
     "output_type": "error",
     "traceback": [
      "\u001b[1;31m---------------------------------------------------------------------------\u001b[0m",
      "\u001b[1;31mLinAlgError\u001b[0m                               Traceback (most recent call last)",
      "Cell \u001b[1;32mIn[45], line 2\u001b[0m\n\u001b[0;32m      1\u001b[0m A \u001b[38;5;241m=\u001b[39m np\u001b[38;5;241m.\u001b[39marray([[\u001b[38;5;241m1\u001b[39m,\u001b[38;5;241m2\u001b[39m],[\u001b[38;5;241m3\u001b[39m,\u001b[38;5;241m4\u001b[39m],[\u001b[38;5;241m5\u001b[39m,\u001b[38;5;241m6\u001b[39m]])\n\u001b[1;32m----> 2\u001b[0m np\u001b[38;5;241m.\u001b[39mlinalg\u001b[38;5;241m.\u001b[39mdet(A)\n",
      "File \u001b[1;32m<__array_function__ internals>:200\u001b[0m, in \u001b[0;36mdet\u001b[1;34m(*args, **kwargs)\u001b[0m\n",
      "File \u001b[1;32m~\\AppData\\Local\\anaconda3\\Lib\\site-packages\\numpy\\linalg\\linalg.py:2136\u001b[0m, in \u001b[0;36mdet\u001b[1;34m(a)\u001b[0m\n\u001b[0;32m   2134\u001b[0m a \u001b[38;5;241m=\u001b[39m asarray(a)\n\u001b[0;32m   2135\u001b[0m _assert_stacked_2d(a)\n\u001b[1;32m-> 2136\u001b[0m _assert_stacked_square(a)\n\u001b[0;32m   2137\u001b[0m t, result_t \u001b[38;5;241m=\u001b[39m _commonType(a)\n\u001b[0;32m   2138\u001b[0m signature \u001b[38;5;241m=\u001b[39m \u001b[38;5;124m'\u001b[39m\u001b[38;5;124mD->D\u001b[39m\u001b[38;5;124m'\u001b[39m \u001b[38;5;28;01mif\u001b[39;00m isComplexType(t) \u001b[38;5;28;01melse\u001b[39;00m \u001b[38;5;124m'\u001b[39m\u001b[38;5;124md->d\u001b[39m\u001b[38;5;124m'\u001b[39m\n",
      "File \u001b[1;32m~\\AppData\\Local\\anaconda3\\Lib\\site-packages\\numpy\\linalg\\linalg.py:190\u001b[0m, in \u001b[0;36m_assert_stacked_square\u001b[1;34m(*arrays)\u001b[0m\n\u001b[0;32m    188\u001b[0m m, n \u001b[38;5;241m=\u001b[39m a\u001b[38;5;241m.\u001b[39mshape[\u001b[38;5;241m-\u001b[39m\u001b[38;5;241m2\u001b[39m:]\n\u001b[0;32m    189\u001b[0m \u001b[38;5;28;01mif\u001b[39;00m m \u001b[38;5;241m!=\u001b[39m n:\n\u001b[1;32m--> 190\u001b[0m     \u001b[38;5;28;01mraise\u001b[39;00m LinAlgError(\u001b[38;5;124m'\u001b[39m\u001b[38;5;124mLast 2 dimensions of the array must be square\u001b[39m\u001b[38;5;124m'\u001b[39m)\n",
      "\u001b[1;31mLinAlgError\u001b[0m: Last 2 dimensions of the array must be square"
     ]
    }
   ],
   "source": [
    "A = np.array([[1,2],[3,4],[5,6]])\n",
    "np.linalg.det(A)"
   ]
  },
  {
   "cell_type": "code",
   "execution_count": 47,
   "id": "e8f32f2b",
   "metadata": {},
   "outputs": [
    {
     "data": {
      "text/plain": [
       "True"
      ]
     },
     "execution_count": 47,
     "metadata": {},
     "output_type": "execute_result"
    }
   ],
   "source": [
    "# check det(AB)=det(A)*det(B) for any nxn matrices A and B\n",
    "n = 5\n",
    "A = np.random.randn(n,n)\n",
    "B = np.random.randn(n,n)\n",
    "np.allclose(np.linalg.det(A.dot(B)),np.linalg.det(A)*np.linalg.det(B))"
   ]
  },
  {
   "cell_type": "code",
   "execution_count": null,
   "id": "bc892587",
   "metadata": {},
   "outputs": [],
   "source": []
  }
 ],
 "metadata": {
  "kernelspec": {
   "display_name": "Python 3 (ipykernel)",
   "language": "python",
   "name": "python3"
  },
  "language_info": {
   "codemirror_mode": {
    "name": "ipython",
    "version": 3
   },
   "file_extension": ".py",
   "mimetype": "text/x-python",
   "name": "python",
   "nbconvert_exporter": "python",
   "pygments_lexer": "ipython3",
   "version": "3.11.4"
  }
 },
 "nbformat": 4,
 "nbformat_minor": 5
}
