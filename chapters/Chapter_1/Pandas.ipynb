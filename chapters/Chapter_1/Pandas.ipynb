{
 "cells": [
  {
   "cell_type": "markdown",
   "id": "162ad998",
   "metadata": {},
   "source": [
    "# INTRODUCTION TO PANDAS"
   ]
  },
  {
   "cell_type": "markdown",
   "id": "4b59a51c",
   "metadata": {},
   "source": [
    "Pandas is a powerful and flexible open-source data analysis and manipulation library for Python. It provides data structures like DataFrame and Series, which make it easy to handle and analyze structured data."
   ]
  },
  {
   "cell_type": "markdown",
   "id": "667b58e2",
   "metadata": {},
   "source": [
    "## 1. IMPORTING PANDAS"
   ]
  },
  {
   "cell_type": "markdown",
   "id": "dc89a72a",
   "metadata": {},
   "source": [
    "First, import the pandas library. It is conventionally imported as `pd`."
   ]
  },
  {
   "cell_type": "code",
   "execution_count": 1,
   "id": "0f8147d7",
   "metadata": {},
   "outputs": [],
   "source": [
    "import pandas as pd"
   ]
  },
  {
   "cell_type": "markdown",
   "id": "d586315f",
   "metadata": {},
   "source": [
    "## 2. LOADING PANDAS"
   ]
  },
  {
   "cell_type": "markdown",
   "id": "f4f6f190",
   "metadata": {},
   "source": [
    "Pandas can read data from various file formats, such as CSV, Excel, SQL, and more. Here, we'll show how to load data from a CSV file."
   ]
  },
  {
   "cell_type": "code",
   "execution_count": 2,
   "id": "ea84e2f9",
   "metadata": {},
   "outputs": [
    {
     "data": {
      "text/html": [
       "<div>\n",
       "<style scoped>\n",
       "    .dataframe tbody tr th:only-of-type {\n",
       "        vertical-align: middle;\n",
       "    }\n",
       "\n",
       "    .dataframe tbody tr th {\n",
       "        vertical-align: top;\n",
       "    }\n",
       "\n",
       "    .dataframe thead th {\n",
       "        text-align: right;\n",
       "    }\n",
       "</style>\n",
       "<table border=\"1\" class=\"dataframe\">\n",
       "  <thead>\n",
       "    <tr style=\"text-align: right;\">\n",
       "      <th></th>\n",
       "      <th>Name</th>\n",
       "      <th>Age</th>\n",
       "      <th>City</th>\n",
       "      <th>Score</th>\n",
       "    </tr>\n",
       "  </thead>\n",
       "  <tbody>\n",
       "    <tr>\n",
       "      <th>0</th>\n",
       "      <td>Alice</td>\n",
       "      <td>24</td>\n",
       "      <td>New York</td>\n",
       "      <td>85</td>\n",
       "    </tr>\n",
       "    <tr>\n",
       "      <th>1</th>\n",
       "      <td>Bob</td>\n",
       "      <td>27</td>\n",
       "      <td>Los Angeles</td>\n",
       "      <td>90</td>\n",
       "    </tr>\n",
       "    <tr>\n",
       "      <th>2</th>\n",
       "      <td>Charlie</td>\n",
       "      <td>22</td>\n",
       "      <td>Chicago</td>\n",
       "      <td>78</td>\n",
       "    </tr>\n",
       "    <tr>\n",
       "      <th>3</th>\n",
       "      <td>David</td>\n",
       "      <td>32</td>\n",
       "      <td>Houston</td>\n",
       "      <td>88</td>\n",
       "    </tr>\n",
       "    <tr>\n",
       "      <th>4</th>\n",
       "      <td>Eva</td>\n",
       "      <td>29</td>\n",
       "      <td>Phoenix</td>\n",
       "      <td>95</td>\n",
       "    </tr>\n",
       "  </tbody>\n",
       "</table>\n",
       "</div>"
      ],
      "text/plain": [
       "      Name  Age         City  Score\n",
       "0    Alice   24     New York     85\n",
       "1      Bob   27  Los Angeles     90\n",
       "2  Charlie   22      Chicago     78\n",
       "3    David   32      Houston     88\n",
       "4      Eva   29      Phoenix     95"
      ]
     },
     "execution_count": 2,
     "metadata": {},
     "output_type": "execute_result"
    }
   ],
   "source": [
    "# Load data from a CSV file\n",
    "data = pd.read_csv('toy_dataset.csv')\n",
    "\n",
    "# Display the first few rows of the DataFrame\n",
    "data.head()"
   ]
  },
  {
   "cell_type": "markdown",
   "id": "4806d124",
   "metadata": {},
   "source": [
    "## 3. SELECTING COLUMNS"
   ]
  },
  {
   "cell_type": "markdown",
   "id": "346d8752",
   "metadata": {},
   "source": [
    "You can select one or more columns from a DataFrame using the column names."
   ]
  },
  {
   "cell_type": "code",
   "execution_count": 4,
   "id": "fa23a790",
   "metadata": {},
   "outputs": [
    {
     "data": {
      "text/plain": [
       "0      Alice\n",
       "1        Bob\n",
       "2    Charlie\n",
       "3      David\n",
       "4        Eva\n",
       "Name: Name, dtype: object"
      ]
     },
     "execution_count": 4,
     "metadata": {},
     "output_type": "execute_result"
    }
   ],
   "source": [
    "# Select a single column\n",
    "column_data = data['Name']\n",
    "column_data"
   ]
  },
  {
   "cell_type": "code",
   "execution_count": 5,
   "id": "2d4cc911",
   "metadata": {},
   "outputs": [
    {
     "data": {
      "text/html": [
       "<div>\n",
       "<style scoped>\n",
       "    .dataframe tbody tr th:only-of-type {\n",
       "        vertical-align: middle;\n",
       "    }\n",
       "\n",
       "    .dataframe tbody tr th {\n",
       "        vertical-align: top;\n",
       "    }\n",
       "\n",
       "    .dataframe thead th {\n",
       "        text-align: right;\n",
       "    }\n",
       "</style>\n",
       "<table border=\"1\" class=\"dataframe\">\n",
       "  <thead>\n",
       "    <tr style=\"text-align: right;\">\n",
       "      <th></th>\n",
       "      <th>Name</th>\n",
       "      <th>Age</th>\n",
       "    </tr>\n",
       "  </thead>\n",
       "  <tbody>\n",
       "    <tr>\n",
       "      <th>0</th>\n",
       "      <td>Alice</td>\n",
       "      <td>24</td>\n",
       "    </tr>\n",
       "    <tr>\n",
       "      <th>1</th>\n",
       "      <td>Bob</td>\n",
       "      <td>27</td>\n",
       "    </tr>\n",
       "    <tr>\n",
       "      <th>2</th>\n",
       "      <td>Charlie</td>\n",
       "      <td>22</td>\n",
       "    </tr>\n",
       "    <tr>\n",
       "      <th>3</th>\n",
       "      <td>David</td>\n",
       "      <td>32</td>\n",
       "    </tr>\n",
       "    <tr>\n",
       "      <th>4</th>\n",
       "      <td>Eva</td>\n",
       "      <td>29</td>\n",
       "    </tr>\n",
       "  </tbody>\n",
       "</table>\n",
       "</div>"
      ],
      "text/plain": [
       "      Name  Age\n",
       "0    Alice   24\n",
       "1      Bob   27\n",
       "2  Charlie   22\n",
       "3    David   32\n",
       "4      Eva   29"
      ]
     },
     "execution_count": 5,
     "metadata": {},
     "output_type": "execute_result"
    }
   ],
   "source": [
    "# Select multiple columns\n",
    "multiple_columns_data = data[['Name', 'Age']]\n",
    "multiple_columns_data"
   ]
  },
  {
   "cell_type": "markdown",
   "id": "b9f72a25",
   "metadata": {},
   "source": [
    "## 4. WANT TO KNOW MORE"
   ]
  },
  {
   "cell_type": "markdown",
   "id": "36df6123",
   "metadata": {},
   "source": [
    "We have covered the basics of using pandas. To deepen your understanding and explore more advanced features, check out these resources:\n",
    "\n",
    "* **Pandas Documentation**: The [official pandas documentation](https://pandas.pydata.org/docs/) provides comprehensive information about all the functionalities and features of pandas.\n",
    "\n",
    "* **Pandas Tutorials**: The [Pandas Tutorials section](https://pandas.pydata.org/pandas-docs/stable/getting_started/intro_tutorials/index.html) offers step-by-step guides and examples to help you get started and advance your skills.\n",
    "\n",
    "* **Pandas Cheat Sheet**: For a quick reference, the [Pandas Cheat Sheet](https://pandas.pydata.org/Pandas_Cheat_Sheet.pdf) provides a handy overview of commonly used functions and their syntax."
   ]
  },
  {
   "cell_type": "code",
   "execution_count": null,
   "id": "75479f44",
   "metadata": {},
   "outputs": [],
   "source": []
  }
 ],
 "metadata": {
  "kernelspec": {
   "display_name": "Python 3 (ipykernel)",
   "language": "python",
   "name": "python3"
  },
  "language_info": {
   "codemirror_mode": {
    "name": "ipython",
    "version": 3
   },
   "file_extension": ".py",
   "mimetype": "text/x-python",
   "name": "python",
   "nbconvert_exporter": "python",
   "pygments_lexer": "ipython3",
   "version": "3.11.4"
  }
 },
 "nbformat": 4,
 "nbformat_minor": 5
}
